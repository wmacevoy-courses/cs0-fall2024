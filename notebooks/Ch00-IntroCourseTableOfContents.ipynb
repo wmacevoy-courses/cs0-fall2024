{
 "cells": [
  {
   "cell_type": "markdown",
   "id": "5ab57a49",
   "metadata": {},
   "source": [
    "# Table of Contents\n",
    "\n",
    "### [Ch01 - Introduction](./Ch01-Introduction.ipynb)\n",
    "### [Ch02 - Data, Variables & Standard IO](./Ch02-1-Data-Variables-StdIO.ipynb)\n",
    "### [Ch03-1 - Built-in Functions](./Ch03-1-Functions-Built-in.ipynb)\n",
    "### [Ch03-2 - Std Library Functions](./Ch03-2-Functions-Library.ipynb)\n",
    "### [Ch03-3 - User-defined Functions](./Ch03-3-Functions-UserDefined.ipynb)\n",
    "### [Ch03-4 - Unittesting](./Ch03-4-UnittestingFunctions.ipynb)\n",
    "### [Ch03-5 - Namespace, Modules & Refactoring](./Ch03-5-NamespaceModulesRefactoring.ipynb)\n",
    "### [Ch04 - Conditionals](./Ch04-Conditionals.ipynb)\n",
    "### [Ch05 - Iterations](./Ch05-Iterations.ipynb)\n",
    "### [Ch06 - Strings](./Ch06-Strings.ipynb)\n",
    "### [Ch07 - Tuples](./Ch07-Tuples.ipynb)\n",
    "### [Ch08-1 - Lists](./Ch08-1-Lists.ipynb)\n",
    "### [Ch09-1 - Dictionaries](./Ch09-1-Dictionaries.ipynb)\n",
    "### [Ch10-1 - Files](./Ch10-1-Files.ipynb)\n",
    "### [Ch13 - Recursion](./Ch13-Recursion.ipynb)\n",
    "### [Ch14 - OOP Introduction](./Ch14-OOP.ipynb)\n"
   ]
  },
  {
   "cell_type": "code",
   "execution_count": null,
   "id": "e16018e4",
   "metadata": {},
   "outputs": [],
   "source": []
  }
 ],
 "metadata": {
  "kernelspec": {
   "display_name": "Python 3 (ipykernel)",
   "language": "python",
   "name": "python3"
  },
  "language_info": {
   "codemirror_mode": {
    "name": "ipython",
    "version": 3
   },
   "file_extension": ".py",
   "mimetype": "text/x-python",
   "name": "python",
   "nbconvert_exporter": "python",
   "pygments_lexer": "ipython3",
   "version": "3.10.8"
  }
 },
 "nbformat": 4,
 "nbformat_minor": 5
}
